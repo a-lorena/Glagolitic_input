{
 "cells": [
  {
   "cell_type": "code",
   "execution_count": null,
   "id": "4362cd26",
   "metadata": {},
   "outputs": [],
   "source": [
    "import numpy as np\n",
    "import pandas as pd\n",
    "import matplotlib.pyplot as plt\n",
    "import cv2\n",
    "import os\n",
    "\n",
    "np.set_printoptions(threshold=np.inf)\n",
    "\n",
    "DATA_DIR = \"ImageDataset/\"\n",
    "CLASSES=['A', 'B', 'C', 'CH', 'TJ', 'D', 'DJ', 'E', 'F', 'G', 'H', 'I', 'J', 'JA', 'JU', 'K', 'L', 'M', 'N', 'O', 'P', 'R', 'S', 'SH', 'T', 'U', 'V', 'Z', 'ZH']\n",
    "IMG_SIZE = 100"
   ]
  },
  {
   "cell_type": "code",
   "execution_count": null,
   "id": "63022d6e",
   "metadata": {},
   "outputs": [],
   "source": [
    "### LOAD IMAGES ###\n",
    "\n",
    "training_data=[]\n",
    "\n",
    "def create_training_data():\n",
    "    for c in CLASSES:\n",
    "        path = os.path.join(DATA_DIR, c)\n",
    "        class_num = CLASSES.index(c)\n",
    "        \n",
    "        for img in os.listdir(path):\n",
    "            try:\n",
    "                img_array = cv2.imread(os.path.join(path,img), cv2.IMREAD_GRAYSCALE)\n",
    "                new_array = cv2.resize(img_array,(IMG_SIZE,IMG_SIZE))\n",
    "                training_data.append([new_array,class_num])\n",
    "            except Exception as e:\n",
    "                pass\n",
    "            \n",
    "        print(\"DIR \" + str(c) + \" done.\")\n",
    "\n",
    "create_training_data()"
   ]
  },
  {
   "cell_type": "code",
   "execution_count": null,
   "id": "3050cccc",
   "metadata": {},
   "outputs": [],
   "source": [
    "### SHUFFLE AND DIVIDE DATA ###\n",
    "\n",
    "import random\n",
    "random.shuffle(training_data)\n",
    "\n",
    "X = []\n",
    "y = []\n",
    "\n",
    "for image, label in training_data:\n",
    "    X.append(image)\n",
    "    y.append(label)\n",
    "\n",
    "X =  np.array(X).reshape(-1, IMG_SIZE, IMG_SIZE, 1)"
   ]
  },
  {
   "cell_type": "code",
   "execution_count": null,
   "id": "a26eeed5",
   "metadata": {},
   "outputs": [],
   "source": [
    "train_images = []\n",
    "train_labels = []\n",
    "test_images = []\n",
    "test_labels = []\n",
    "\n",
    "# 20% OF DATA TO TEST CNN\n",
    "test_number = (len(X) * 2) // 10\n",
    "\n",
    "# 80% OF DATA TO TRAIN CNN\n",
    "train_number = len(X) - test_number\n",
    "\n",
    "train_images = X[:train_number]\n",
    "train_labels = y[:train_number]\n",
    "test_images = X[train_number:]\n",
    "test_labels = y[train_number:]"
   ]
  },
  {
   "cell_type": "code",
   "execution_count": null,
   "id": "3ac343ad",
   "metadata": {},
   "outputs": [],
   "source": [
    "### COMPARE AMOUNT OF DATA ###\n",
    "\n",
    "plt.rcParams['figure.figsize'] = [15, 5]\n",
    "figure, axis = plt.subplots()\n",
    "\n",
    "# NUMBER OF IMAGES FOR EACH LETTER IN WHOLE DATASET\n",
    "dataset_label_count = [0] * 29\n",
    "for label in y:\n",
    "    dataset_label_count[label] += 1\n",
    "    \n",
    "# NUMBER OF IMAGES FOR EACH LETTER IN TRAIN SET\n",
    "train_label_count = [0] * 29\n",
    "for label in train_labels:\n",
    "    train_label_count[label] += 1\n",
    "    \n",
    "# NUMBER OF IMAGES FOR EACH LETTER IN TEST SET\n",
    "test_label_count = [0] * 29\n",
    "for label in test_labels:\n",
    "    test_label_count[label] += 1\n",
    "\n",
    "x_axis = np.arange(len(CLASSES))\n",
    "width = 0.25\n",
    "\n",
    "axis.bar(x_axis, dataset_label_count, width, edgecolor=\"white\", linewidth=0.7, color='darkolivegreen')\n",
    "axis.bar(x_axis+width, train_label_count, width, edgecolor=\"white\", linewidth=0.7, color='deepskyblue')\n",
    "axis.bar(x_axis+width*2, test_label_count, width, edgecolor=\"white\", linewidth=0.7, color='salmon')\n",
    "\n",
    "plt.xlabel(\"Letter\")\n",
    "plt.ylabel(\"Number of images\")\n",
    "\n",
    "plt.xticks(x_axis+width, CLASSES)\n",
    "plt.legend(['DATASET', 'TRAIN', 'TEST'])\n",
    "\n",
    "plt.show()"
   ]
  },
  {
   "cell_type": "code",
   "execution_count": null,
   "id": "28ea5ce9",
   "metadata": {},
   "outputs": [],
   "source": [
    "import tensorflow as tf\n",
    "from tensorflow import keras\n",
    "\n",
    "train_images, test_images = train_images / 255.0, test_images / 255.0\n",
    "\n",
    "train_images = np.array(train_images)\n",
    "train_labels = np.array(train_labels)\n",
    "test_images = np.array(test_images)\n",
    "test_labels = np.array(test_labels)"
   ]
  },
  {
   "cell_type": "code",
   "execution_count": null,
   "id": "8c92fbd0",
   "metadata": {},
   "outputs": [],
   "source": [
    "### CREATE AND TRAIN CNN ###\n",
    "\n",
    "model = keras.models.Sequential()\n",
    "model.add(keras.layers.Conv2D(32, (3, 3), activation='relu', input_shape=(IMG_SIZE, IMG_SIZE, 1)))\n",
    "model.add(keras.layers.MaxPooling2D((2, 2)))\n",
    "\n",
    "model.add(keras.layers.Flatten())\n",
    "model.add(keras.layers.Dense(32, activation='relu'))\n",
    "model.add(keras.layers.Dense(29, activation='softmax'))\n",
    "\n",
    "#model.summary()\n",
    "\n",
    "model.compile(optimizer='adam',\n",
    "              loss=\"sparse_categorical_crossentropy\",\n",
    "              metrics=['accuracy'])\n",
    "\n",
    "history = model.fit(train_images, train_labels, epochs=3, \n",
    "                    validation_data=(test_images, test_labels))\n",
    "\n",
    "plt.plot(history.history['accuracy'], label='accuracy')\n",
    "plt.plot(history.history['val_accuracy'], label = 'val_accuracy')\n",
    "plt.xlabel('Epoch')\n",
    "plt.ylabel('Accuracy')\n",
    "plt.ylim([0, 1])\n",
    "plt.legend(loc='lower right')\n",
    "\n",
    "model.evaluate(test_images,  test_labels, verbose=2)"
   ]
  },
  {
   "cell_type": "code",
   "execution_count": null,
   "id": "fcf69d07",
   "metadata": {},
   "outputs": [],
   "source": [
    "### SAVE CNN MODEL ###\n",
    "\n",
    "model.save('cnn_model')"
   ]
  },
  {
   "cell_type": "code",
   "execution_count": null,
   "id": "c29547b6",
   "metadata": {},
   "outputs": [],
   "source": [
    "### CONVERT AND SAVE TFLITE ###\n",
    "\n",
    "converter = tf.lite.TFLiteConverter.from_saved_model('cnn_model/')\n",
    "tflite_model = converter.convert()\n",
    "\n",
    "with open('cnn_model.tflite', 'wb') as f:\n",
    "    f.write(tflite_model)"
   ]
  }
 ],
 "metadata": {
  "kernelspec": {
   "display_name": "python_3_7_env",
   "language": "python",
   "name": "python_3_7_env"
  },
  "language_info": {
   "codemirror_mode": {
    "name": "ipython",
    "version": 3
   },
   "file_extension": ".py",
   "mimetype": "text/x-python",
   "name": "python",
   "nbconvert_exporter": "python",
   "pygments_lexer": "ipython3",
   "version": "3.7.13"
  }
 },
 "nbformat": 4,
 "nbformat_minor": 5
}
